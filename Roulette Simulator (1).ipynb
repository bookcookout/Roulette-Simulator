{
 "cells": [
  {
   "cell_type": "code",
   "execution_count": 4,
   "metadata": {},
   "outputs": [],
   "source": [
    "import csv\n",
    "#importing spin data and removing heading\n",
    "f = open(\"/Users/thekid/Documents/1mil-RNG-DoubleZero.txt\", \"r\")\n",
    "pre_spins = list(csv.reader(f))\n",
    "tspins = pre_spins[3:]"
   ]
  },
  {
   "cell_type": "code",
   "execution_count": null,
   "metadata": {},
   "outputs": [],
   "source": []
  },
  {
   "cell_type": "code",
   "execution_count": 5,
   "metadata": {},
   "outputs": [],
   "source": [
    "#making sure that all objects in our list of spins are actual spins and not blanks\n",
    "spins = []\n",
    "tspins = list(filter(None, tspins))\n",
    "for row in tspins:\n",
    "    for item in row:\n",
    "        try:\n",
    "            spins.append(int(item))\n",
    "        except Exception:\n",
    "            continue\n",
    "\n"
   ]
  },
  {
   "cell_type": "code",
   "execution_count": 3,
   "metadata": {},
   "outputs": [
    {
     "data": {
      "text/plain": [
       "1000000"
      ]
     },
     "execution_count": 3,
     "metadata": {},
     "output_type": "execute_result"
    }
   ],
   "source": [
    "# a cool million revolutions of the roulette wheel\n",
    "len(spins)"
   ]
  },
  {
   "cell_type": "code",
   "execution_count": 6,
   "metadata": {},
   "outputs": [],
   "source": [
    "#creating a function that will take a starting pile of cash, a fixed number of bets, and our data as inputs\n",
    "def gambler(bankroll,bets,data):\n",
    "    results = []\n",
    "    #we are going to run our roulette system through the entire one million spins we have in data\n",
    "    #defining a set number of bets to be played in essentially one million 'rounds' beforehand\n",
    "    #some of the final 'rounds' will be shorter than the set number of bets because there will not be enough\n",
    "    #spins in the dataset to accomodate them. that's okay. we think of that as the casino's closing time. it happens.\n",
    "    for idx, item in enumerate(data):\n",
    "        bank = bankroll\n",
    "        start_idx = idx\n",
    "        number_of_bets = bets\n",
    "        end_idx = start_idx + number_of_bets\n",
    "        #our starting bet, default plug is one\n",
    "        current_bet = 1\n",
    "        for spin in spins[start_idx:end_idx]:\n",
    "            #most casinos have a max bet of $10k at roulette tables. we implement that here.\n",
    "            if current_bet > 10000:\n",
    "                current_bet = 10000\n",
    "            if (idx - 1) % number_of_bets == 0:\n",
    "                bank = bankroll\n",
    "            #we are betting on odd in our model, so an even spin nets a loss of current bet\n",
    "            #after each loss, the current bet is tripled, in line with the strategy\n",
    "            if spin % 2 == 0:\n",
    "                bank = bank - current_bet\n",
    "                current_bet = current_bet*3\n",
    "            #when we win, we win double our current bet and the current bet resets to 1\n",
    "            else:\n",
    "                bank = bank + current_bet*2\n",
    "                current_bet = 1\n",
    "            #if we run out of money, we lose. this gets recorded in our results\n",
    "            if bank <= 0:\n",
    "                results.append(str(\"lost\"))\n",
    "                bank = bankroll\n",
    "                break\n",
    "        #if after completing the fixed number of bets, we have netted a win or a loss, this is appended to our results\n",
    "        if bank != bankroll:\n",
    "            results.append(bank)\n",
    "    return results\n"
   ]
  },
  {
   "cell_type": "code",
   "execution_count": 9,
   "metadata": {},
   "outputs": [],
   "source": [
    "from numpy import median\n",
    "\n",
    "#lets do some analysis on our list of one million betting outcomes. this function is going to take the results of our 'gambler' function and a starting pool of money\n",
    "def analysis(a,start_money):\n",
    "    results_breakdown = {}\n",
    "    lost_count = 0\n",
    "    down_count = 0\n",
    "    up_count = 0\n",
    "    up_count_list = []\n",
    "    highest_win = None\n",
    "    total_winnings = 0\n",
    "    #this is going to count total losses where we've lost everything, losses where we're simply 'down', and wins where we are 'up'\n",
    "    for each in a:\n",
    "        if each == \"lost\":\n",
    "            lost_count += 1\n",
    "        if type(each) != str and each < start_money:\n",
    "            down_count += 1\n",
    "        if type(each) != str and each > start_money:\n",
    "            up_count += 1\n",
    "            up_count_list.append(each)\n",
    "    #stats to get a sense of our results and the net value of a single implementation of our system        \n",
    "    median_winnings = median(up_count_list)\n",
    "    max_winnings = max(up_count_list)\n",
    "    win_rate = up_count/(down_count+lost_count+up_count)\n",
    "    total_loss_rate = lost_count/(down_count+lost_count+up_count)\n",
    "    average_winnings = sum(up_count_list)/up_count\n",
    "    net_value = average_winnings*win_rate\n",
    "    \n",
    "    results_breakdown[\"lost\"] = lost_count\n",
    "    results_breakdown[\"down\"] = down_count\n",
    "    results_breakdown[\"up\"] = up_count\n",
    "    results_breakdown[\"median_winnings\"] = median_winnings\n",
    "    results_breakdown[\"average_winnings\"] = average_winnings\n",
    "    results_breakdown[\"max_winnings\"] = max_winnings\n",
    "    results_breakdown[\"win_rate\"] = win_rate\n",
    "    results_breakdown[\"lose_everything_rate\"] = total_loss_rate\n",
    "    results_breakdown[\"net_value\"] = net_value\n",
    "    \n",
    "    return results_breakdown"
   ]
  },
  {
   "cell_type": "code",
   "execution_count": 10,
   "metadata": {},
   "outputs": [
    {
     "data": {
      "text/plain": [
       "{'lost': 265116,\n",
       " 'down': 5571,\n",
       " 'up': 729310,\n",
       " 'median_winnings': 2546.0,\n",
       " 'average_winnings': 3140.3230135333397,\n",
       " 'max_winnings': 34758,\n",
       " 'win_rate': 0.7293121879365638,\n",
       " 'lose_everything_rate': 0.26511679535038607,\n",
       " 'net_value': 2290.2758478275437}"
      ]
     },
     "execution_count": 10,
     "metadata": {},
     "output_type": "execute_result"
    }
   ],
   "source": [
    "results = gambler(1000,100,spins)\n",
    "analysis(results,1000)"
   ]
  },
  {
   "cell_type": "code",
   "execution_count": 11,
   "metadata": {},
   "outputs": [],
   "source": [
    "best_net_value = 0\n",
    "optimal_bets = 0\n",
    "result_print = []\n",
    "for i in range(1,100):\n",
    "    bets = i\n",
    "    results = gambler(1000,bets,spins)\n",
    "    glee = analysis(results,1000)\n",
    "    net_value = glee['net_value']\n",
    "    lost_ev = glee['lose_everything_rate']\n",
    "    max_win = glee['max_winnings']\n",
    "    if net_value > best_net_value:\n",
    "        best_net_value = net_value\n",
    "        optimal_bets = bets\n",
    "    to_append = [bets,net_value,lost_ev,max_win]\n",
    "    result_print.append(to_append)\n",
    "        \n",
    "key = [optimal_bets,best_net_value]"
   ]
  },
  {
   "cell_type": "code",
   "execution_count": 19,
   "metadata": {},
   "outputs": [
    {
     "data": {
      "text/plain": [
       "[99, 2276.489520979042]"
      ]
     },
     "execution_count": 19,
     "metadata": {},
     "output_type": "execute_result"
    }
   ],
   "source": [
    "key"
   ]
  },
  {
   "cell_type": "code",
   "execution_count": 22,
   "metadata": {},
   "outputs": [],
   "source": [
    "import pandas as pd\n",
    "s = pd.DataFrame(result_print)"
   ]
  },
  {
   "cell_type": "code",
   "execution_count": 24,
   "metadata": {},
   "outputs": [],
   "source": [
    "s.columns = ['bets','net_value','lost_ev','max_win']"
   ]
  },
  {
   "cell_type": "code",
   "execution_count": 41,
   "metadata": {},
   "outputs": [
    {
     "data": {
      "image/png": "[encoded data removed]",
      "text/plain": [
       "<Figure size 432x288 with 1 Axes>"
      ]
     },
     "metadata": {},
     "output_type": "display_data"
    }
   ],
   "source": [
    "import matplotlib.pyplot as plt\n",
    "# For prettier plots.\n",
    "import seaborn\n",
    "\n",
    "plt.plot(s['bets'], s['lost_ev'],color='b')\n",
    "#plt.plot(s['bets'], s['net_value'],color='g')\n",
    "#plt.plot(s['bets'], s['max_win'],color='y')\n",
    "plt.show()"
   ]
  },
  {
   "cell_type": "code",
   "execution_count": null,
   "metadata": {},
   "outputs": [],
   "source": []
  }
 ],
 "metadata": {
  "kernelspec": {
   "display_name": "Python 3",
   "language": "python",
   "name": "python3"
  },
  "language_info": {
   "codemirror_mode": {
    "name": "ipython",
    "version": 3
   },
   "file_extension": ".py",
   "mimetype": "text/x-python",
   "name": "python",
   "nbconvert_exporter": "python",
   "pygments_lexer": "ipython3",
   "version": "3.6.5"
  }
 },
 "nbformat": 4,
 "nbformat_minor": 2
}
